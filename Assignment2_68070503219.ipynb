{
  "cells": [
    {
      "cell_type": "markdown",
      "metadata": {
        "id": "j6v1trxBzHJF"
      },
      "source": [
        "#  Numbers"
      ]
    },
    {
      "cell_type": "markdown",
      "metadata": {
        "id": "L7tdmPaSzHJH"
      },
      "source": [
        "Compute the number of bytes in one Gigabyte (1kb = 1024 bytes, 1mb = 1024 kb, 1gb = 1024 mb)"
      ]
    },
    {
      "cell_type": "code",
      "execution_count": 1,
      "metadata": {
        "colab": {
          "base_uri": "https://localhost:8080/"
        },
        "id": "YG1_VGEpzHJH",
        "outputId": "171d0788-c125-4a00-a028-be2e201cb262"
      },
      "outputs": [
        {
          "output_type": "stream",
          "name": "stdout",
          "text": [
            "1073741824\n"
          ]
        }
      ],
      "source": [
        "#Write your code here\n",
        "totalByptes = (1024*1024*1024)\n",
        "print(totalByptes)"
      ]
    },
    {
      "cell_type": "markdown",
      "metadata": {
        "id": "L9dEWAv5zHJI"
      },
      "source": [
        "You bought 500 shares of stock A at $\\$$600 on day 0 and you sold it at  $\\$$1000 on day 700.\n",
        "The daily discount rate is 0.0001%. How much profit did you make in terms of net present value.\n"
      ]
    },
    {
      "cell_type": "code",
      "execution_count": 2,
      "metadata": {
        "id": "ww8l_At7zHJJ",
        "colab": {
          "base_uri": "https://localhost:8080/"
        },
        "outputId": "fdd6294c-6228-4083-fc23-4d1b460f347a"
      },
      "outputs": [
        {
          "output_type": "stream",
          "name": "stdout",
          "text": [
            "199650.12264632783\n"
          ]
        }
      ],
      "source": [
        "#Write your code here\n",
        "initial_investment =500 * 600\n",
        "future_cash_inflow = 500 * 1000\n",
        "present_value = future_cash_inflow / ((1 + 0.000001) ** 700)\n",
        "net_present_value = present_value - initial_investment\n",
        "print(net_present_value)"
      ]
    },
    {
      "cell_type": "markdown",
      "metadata": {
        "id": "2yakRXmQzHJJ"
      },
      "source": [
        "For any value of x, create a variable called even_check that is True if x is even and False if x is odd."
      ]
    },
    {
      "cell_type": "code",
      "execution_count": 3,
      "metadata": {
        "run_control": {
          "marked": true
        },
        "colab": {
          "base_uri": "https://localhost:8080/"
        },
        "id": "Pmue5XFNzHJJ",
        "outputId": "1961f5b5-17ca-400f-ad70-8018ec55d3bf"
      },
      "outputs": [
        {
          "output_type": "stream",
          "name": "stdout",
          "text": [
            "Enter the numbers4\n",
            "True\n"
          ]
        }
      ],
      "source": [
        "#Write your code here\n",
        "x = int(input(\"Enter the numbers\"))\n",
        "if(x%2) == 0:\n",
        "   print(\"True\")\n",
        "else:\n",
        " if(x%2) == 1:\n",
        "   print(\"False\")\n",
        " print(x)"
      ]
    },
    {
      "cell_type": "markdown",
      "metadata": {
        "id": "64XJUwz3zHJK"
      },
      "source": [
        "You have num_shirts t-shirts, num_shorts pairs of shorts and num_shoes pairs of shoes.  Create a variable called num_outfits that stores the total number of different outfits you can make."
      ]
    },
    {
      "cell_type": "code",
      "execution_count": 4,
      "metadata": {
        "id": "8XqBvJstzHJK",
        "colab": {
          "base_uri": "https://localhost:8080/"
        },
        "outputId": "4d3aa9f7-19e6-4961-896a-42416496340d"
      },
      "outputs": [
        {
          "output_type": "stream",
          "name": "stdout",
          "text": [
            "Enter the numbers5\n",
            "Enter the numbers6\n",
            "Enter the numbers7\n",
            "210\n"
          ]
        }
      ],
      "source": [
        "#Write your code here\n",
        "num_shirts = int(input(\"Enter the numbers\"))\n",
        "num_pairs = int(input(\"Enter the numbers\"))\n",
        "num_shoes = int(input(\"Enter the numbers\"))\n",
        "num_outfits = num_shirts * num_pairs * num_shoes\n",
        "print (num_outfits)"
      ]
    },
    {
      "cell_type": "markdown",
      "metadata": {
        "id": "5C5IN3VozHJK"
      },
      "source": [
        "# String Practice\n",
        "\n",
        "Create variable called \"name\" that stores your full name. Find whether your name has an even or odd number of letters."
      ]
    },
    {
      "cell_type": "code",
      "execution_count": 5,
      "metadata": {
        "id": "wjT64bXdzHJL",
        "colab": {
          "base_uri": "https://localhost:8080/"
        },
        "outputId": "a022fb70-7b0f-4d8d-8016-d65aec470f8a"
      },
      "outputs": [
        {
          "output_type": "stream",
          "name": "stdout",
          "text": [
            "Enter your full namePanichaBanrueangthong\n",
            "odd\n"
          ]
        }
      ],
      "source": [
        "#Write your code here\n",
        "name = str(input(\"Enter your full name\"))\n",
        "len(name)\n",
        "if(len(name)%2) == 0:\n",
        "  print(\"even\")\n",
        "else:\n",
        "  if(len(name)%2) == 1:\n",
        "    print(\"odd\")\n"
      ]
    },
    {
      "cell_type": "markdown",
      "metadata": {
        "id": "8UOdjxD6zHJL"
      },
      "source": [
        "Correct the following variable so it is equal to \"spammy\""
      ]
    },
    {
      "cell_type": "code",
      "execution_count": 7,
      "metadata": {
        "id": "tRygsXoyzHJL",
        "colab": {
          "base_uri": "https://localhost:8080/"
        },
        "outputId": "e14876f7-c411-4fe8-9eaa-546111cd0c53"
      },
      "outputs": [
        {
          "output_type": "stream",
          "name": "stdout",
          "text": [
            "spammy\n"
          ]
        }
      ],
      "source": [
        "#Write your code here\n",
        "s = \"spaxxy\"\n",
        "News = \"spammy\"\n",
        "print(News)"
      ]
    },
    {
      "cell_type": "markdown",
      "metadata": {
        "id": "0pPqMeQCzHJL"
      },
      "source": [
        "Figure out a way to slice and combine the strings s1, s2, and s3 so that the variable consec_ints = \"123456789\"."
      ]
    },
    {
      "cell_type": "code",
      "execution_count": 57,
      "metadata": {
        "id": "HOQwGSaAzHJL",
        "colab": {
          "base_uri": "https://localhost:8080/"
        },
        "outputId": "a0f06115-429b-4c5d-9f68-2e2e9db24272"
      },
      "outputs": [
        {
          "output_type": "stream",
          "name": "stdout",
          "text": [
            "\"123456789\"\n"
          ]
        }
      ],
      "source": [
        "s1 = \"12345\"\n",
        "s2 = \"34567\"\n",
        "s3 = \"789\"\n",
        "\n",
        "#Write your code here\n",
        "consec_ints = s1 + s2[3] + s3\n",
        "print(f'\"{consec_ints}\"')"
      ]
    },
    {
      "cell_type": "markdown",
      "metadata": {
        "id": "AsH6fWiRzHJL"
      },
      "source": [
        "#  List Practice\n",
        "\n"
      ]
    },
    {
      "cell_type": "markdown",
      "metadata": {
        "id": "5q9t8_oKzHJM"
      },
      "source": [
        "Add the first and last elements of the list L. Store the result in a variable called sum_first_last. Your code should work if I change L."
      ]
    },
    {
      "cell_type": "code",
      "execution_count": 9,
      "metadata": {
        "id": "7r1XNKSazHJM",
        "colab": {
          "base_uri": "https://localhost:8080/"
        },
        "outputId": "a6f27c1b-701c-4392-9b43-072b52073da9"
      },
      "outputs": [
        {
          "output_type": "stream",
          "name": "stdout",
          "text": [
            "72\n"
          ]
        }
      ],
      "source": [
        "L = [5,1,43,2,4,56,7,90, 67,]\n",
        "\n",
        "#Write your code here\n",
        "sum_first_last = L[0] + L[-1]\n",
        "print(sum_first_last)"
      ]
    },
    {
      "cell_type": "markdown",
      "metadata": {
        "id": "8LxJyIe9zHJM"
      },
      "source": [
        "Slice and combine the elements of the list L in a way to print out \"spam\"."
      ]
    },
    {
      "cell_type": "code",
      "execution_count": 10,
      "metadata": {
        "id": "2baSJM5wzHJM",
        "colab": {
          "base_uri": "https://localhost:8080/"
        },
        "outputId": "9e1bbe1f-2ec3-4d60-c534-3b163e80a534"
      },
      "outputs": [
        {
          "output_type": "stream",
          "name": "stdout",
          "text": [
            "spam\n"
          ]
        }
      ],
      "source": [
        "L = [1,\"s\", 2, 3, \"p\", \"a\", 34,1,\"m\"]\n",
        "\n",
        "\n",
        "#Write your code here\n",
        "word = L[1] + L[4] +L[5] +L[8]\n",
        "print(word)"
      ]
    },
    {
      "cell_type": "markdown",
      "metadata": {
        "id": "dwpTaXFNzHJM"
      },
      "source": [
        "Create a variable called num_L which store the number represented by the list of strings in L.  For the example num_L should be 145. You may assume 3 digit numbers."
      ]
    },
    {
      "cell_type": "code",
      "execution_count": 52,
      "metadata": {
        "id": "tmIOnOBpzHJM",
        "colab": {
          "base_uri": "https://localhost:8080/"
        },
        "outputId": "bbdec7ad-a486-492a-ede6-aa8521144f80"
      },
      "outputs": [
        {
          "output_type": "stream",
          "name": "stdout",
          "text": [
            "145\n"
          ]
        }
      ],
      "source": [
        "L = [\"1\",\"4\",\"5\" ]\n",
        "\n",
        "#Write you code here\n",
        "num_L = int(\"\".join(L))\n",
        "print(num_L)"
      ]
    },
    {
      "cell_type": "markdown",
      "metadata": {
        "id": "mrEyT7SgzHJM"
      },
      "source": [
        "Create a list L of numbers of odd length.  Complete the following tasks:\n",
        "\n",
        " - Find the median element\n",
        " - Slice out all element indexed lower than the median element"
      ]
    },
    {
      "cell_type": "code",
      "execution_count": 58,
      "metadata": {
        "id": "75uGY838zHJM",
        "colab": {
          "base_uri": "https://localhost:8080/"
        },
        "outputId": "d58123e2-9e83-410b-cae5-3735d404409b"
      },
      "outputs": [
        {
          "output_type": "stream",
          "name": "stdout",
          "text": [
            "5\n",
            "[5, 6, 6, 9]\n"
          ]
        }
      ],
      "source": [
        "L= [4,5,3,2,6,6,9]\n",
        "\n",
        "#Write your code here\n",
        "sorted_L = sorted(L)\n",
        "median_element = sorted_L[3]\n",
        "print(median_element)\n",
        "sliced_lower_L = sorted_L[3:]\n",
        "print(sliced_lower_L)"
      ]
    }
  ],
  "metadata": {
    "kernelspec": {
      "display_name": "Python 3",
      "language": "python",
      "name": "python3"
    },
    "language_info": {
      "codemirror_mode": {
        "name": "ipython",
        "version": 3
      },
      "file_extension": ".py",
      "mimetype": "text/x-python",
      "name": "python",
      "nbconvert_exporter": "python",
      "pygments_lexer": "ipython3",
      "version": "3.6.0"
    },
    "toc": {
      "colors": {
        "hover_highlight": "#DAA520",
        "navigate_num": "#000000",
        "navigate_text": "#333333",
        "running_highlight": "#FF0000",
        "selected_highlight": "#FFD700",
        "sidebar_border": "#EEEEEE",
        "wrapper_background": "#FFFFFF"
      },
      "moveMenuLeft": true,
      "nav_menu": {
        "height": "12px",
        "width": "252px"
      },
      "navigate_menu": true,
      "number_sections": true,
      "sideBar": true,
      "skip_h1_title": false,
      "threshold": 4,
      "toc_cell": false,
      "toc_position": {},
      "toc_section_display": "block",
      "toc_window_display": false,
      "widenNotebook": false
    },
    "colab": {
      "provenance": []
    }
  },
  "nbformat": 4,
  "nbformat_minor": 0
}