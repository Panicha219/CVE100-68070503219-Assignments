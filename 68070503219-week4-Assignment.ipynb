{
 "cells": [
  {
   "cell_type": "code",
   "execution_count": 7,
   "id": "48ffca69",
   "metadata": {},
   "outputs": [
    {
     "name": "stdout",
     "output_type": "stream",
     "text": [
      "1 is odd\n",
      "2 is even\n",
      "3 is odd\n",
      "4 is even\n",
      "5 is odd\n",
      "6 is even\n",
      "7 is odd\n",
      "8 is even\n",
      "9 is odd\n"
     ]
    }
   ],
   "source": [
    "# Even and odd\n",
    "n = 10\n",
    "for i in range(1,n):\n",
    "    if i%2 == 0:\n",
    "        print(i, \"is even\")  \n",
    "    else:\n",
    "        print(i, \"is odd\")"
   ]
  },
  {
   "cell_type": "code",
   "execution_count": null,
   "id": "8477c764",
   "metadata": {},
   "outputs": [
    {
     "name": "stdout",
     "output_type": "stream",
     "text": [
      "Result= 5\n",
      "Result= 10\n",
      "Result= 15\n",
      "Result= 20\n",
      "Result= 25\n",
      "Result= 30\n",
      "Result= 35\n",
      "Result= 40\n",
      "Result= 45\n",
      "The result is large\n"
     ]
    }
   ],
   "source": [
    "#Moltiplication\n",
    "n = 5\n",
    "for i in range(1,11):\n",
    "    if n*i > 50:\n",
    "        print(\"The result is large\")\n",
    "    else:\n",
    "        print(\"Result=\", n*i)"
   ]
  },
  {
   "cell_type": "code",
   "execution_count": null,
   "id": "56fd05cb",
   "metadata": {},
   "outputs": [
    {
     "name": "stdout",
     "output_type": "stream",
     "text": [
      "1\n",
      "2\n",
      "3\n",
      "5\n",
      "6\n",
      "7\n",
      "9\n",
      "10\n",
      "11\n",
      "13\n",
      "14\n",
      "15\n",
      "17\n",
      "18\n",
      "19\n"
     ]
    }
   ],
   "source": [
    "n = 23\n",
    "for i in range(1,n):\n",
    "    if i%4 == 0:\n",
    "        continue\n",
    "    if i > 20:\n",
    "        break\n",
    "    else:\n",
    "        print(i)\n",
    "     \n"
   ]
  },
  {
   "cell_type": "code",
   "execution_count": 36,
   "id": "12375cee",
   "metadata": {},
   "outputs": [
    {
     "name": "stdout",
     "output_type": "stream",
     "text": [
      "Try agian\n",
      "Try agian\n",
      "You got it\n"
     ]
    }
   ],
   "source": [
    "secret = 777 \n",
    "guess = n\n",
    "while guess != 777:\n",
    "    guess =int(input(\"Guess three digit lucky number from 000 to 999\"))\n",
    "    if guess == 777:\n",
    "        print(\"You got it\")\n",
    "        break\n",
    "    else:\n",
    "        print(\"Try agian\") "
   ]
  },
  {
   "cell_type": "code",
   "execution_count": 50,
   "id": "f845c23b",
   "metadata": {},
   "outputs": [
    {
     "name": "stdout",
     "output_type": "stream",
     "text": [
      "limit reached. You cannot buy anymore\n"
     ]
    }
   ],
   "source": [
    "total_bill = int(input(\"add price\"))\n",
    "while total_bill<1000:\n",
    "    price = int(input(\"add price\"))\n",
    "    total_bill = total_bill + price\n",
    "    if total_bill >1000:\n",
    "        print(\"limit reached. You cannot buy anymore\")\n",
    "        break\n"
   ]
  }
 ],
 "metadata": {
  "kernelspec": {
   "display_name": "Python 3",
   "language": "python",
   "name": "python3"
  },
  "language_info": {
   "codemirror_mode": {
    "name": "ipython",
    "version": 3
   },
   "file_extension": ".py",
   "mimetype": "text/x-python",
   "name": "python",
   "nbconvert_exporter": "python",
   "pygments_lexer": "ipython3",
   "version": "3.11.9"
  }
 },
 "nbformat": 4,
 "nbformat_minor": 5
}
